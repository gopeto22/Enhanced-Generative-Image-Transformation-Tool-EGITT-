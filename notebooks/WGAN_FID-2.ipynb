{
  "cells": [
    {
      "cell_type": "code",
      "execution_count": 60,
      "metadata": {},
      "outputs": [
        {
          "name": "stdout",
          "output_type": "stream",
          "text": [
            "Collecting google-colab\n",
            "  Using cached google-colab-1.0.0.tar.gz (72 kB)\n",
            "  Preparing metadata (setup.py): started\n",
            "  Preparing metadata (setup.py): finished with status 'done'\n",
            "Collecting google-auth~=1.4.0 (from google-colab)\n",
            "  Using cached google_auth-1.4.2-py2.py3-none-any.whl (64 kB)\n",
            "Collecting ipykernel~=4.6.0 (from google-colab)\n",
            "  Using cached ipykernel-4.6.1-py3-none-any.whl (104 kB)\n",
            "Collecting ipython~=5.5.0 (from google-colab)\n",
            "  Using cached ipython-5.5.0-py3-none-any.whl (758 kB)\n",
            "Collecting notebook~=5.2.0 (from google-colab)\n",
            "  Using cached notebook-5.2.2-py2.py3-none-any.whl (8.0 MB)\n",
            "Collecting six~=1.12.0 (from google-colab)\n",
            "  Using cached six-1.12.0-py2.py3-none-any.whl (10 kB)\n",
            "Collecting pandas~=0.24.0 (from google-colab)\n",
            "  Using cached pandas-0.24.2.tar.gz (11.8 MB)\n",
            "  Preparing metadata (setup.py): started\n",
            "  Preparing metadata (setup.py): finished with status 'error'\n"
          ]
        },
        {
          "name": "stderr",
          "output_type": "stream",
          "text": [
            "DEPRECATION: Loading egg at c:\\apps\\anaconda3\\lib\\site-packages\\vboxapi-1.0-py3.11.egg is deprecated. pip 23.3 will enforce this behaviour change. A possible replacement is to use pip for package installation..\n",
            "  error: subprocess-exited-with-error\n",
            "  \n",
            "  python setup.py egg_info did not run successfully.\n",
            "  exit code: 1\n",
            "  \n",
            "  [15 lines of output]\n",
            "  C:\\Users\\gdi1u21\\AppData\\Local\\Temp\\pip-install-2ijw1i53\\pandas_d0d7133a0c2a401aac1baa84272caa1a\\setup.py:12: DeprecationWarning: pkg_resources is deprecated as an API. See https://setuptools.pypa.io/en/latest/pkg_resources.html\n",
            "    import pkg_resources\n",
            "  C:\\Apps\\Anaconda3\\Lib\\site-packages\\setuptools\\__init__.py:84: _DeprecatedInstaller: setuptools.installer and fetch_build_eggs are deprecated.\n",
            "  !!\n",
            "  \n",
            "          ********************************************************************************\n",
            "          Requirements should be satisfied by a PEP 517 installer.\n",
            "          If you are using pip, you can try `pip install --use-pep517`.\n",
            "          ********************************************************************************\n",
            "  \n",
            "  !!\n",
            "    dist.fetch_build_eggs(dist.setup_requires)\n",
            "  error in pandas setup command: 'install_requires' must be a string or list of strings containing valid project/version requirement specifiers; Expected end or semicolon (after version specifier)\n",
            "      pytz >= 2011k\n",
            "           ~~~~~~~^\n",
            "  [end of output]\n",
            "  \n",
            "  note: This error originates from a subprocess, and is likely not a problem with pip.\n",
            "error: metadata-generation-failed\n",
            "\n",
            "Encountered error while generating package metadata.\n",
            "\n",
            "See above for output.\n",
            "\n",
            "note: This is an issue with the package mentioned above, not pip.\n",
            "hint: See above for details.\n"
          ]
        }
      ],
      "source": [
        "!pip install google-colab"
      ]
    },
    {
      "cell_type": "code",
      "execution_count": 61,
      "metadata": {},
      "outputs": [
        {
          "name": "stdout",
          "output_type": "stream",
          "text": [
            "Requirement already satisfied: PyDrive in c:\\apps\\anaconda3\\lib\\site-packages (1.3.1)\n",
            "Requirement already satisfied: google-api-python-client>=1.2 in c:\\apps\\anaconda3\\lib\\site-packages (from PyDrive) (2.116.0)\n",
            "Requirement already satisfied: oauth2client>=4.0.0 in c:\\apps\\anaconda3\\lib\\site-packages (from PyDrive) (4.1.3)\n",
            "Requirement already satisfied: PyYAML>=3.0 in c:\\apps\\anaconda3\\lib\\site-packages (from PyDrive) (6.0)\n",
            "Requirement already satisfied: httplib2<1.dev0,>=0.15.0 in c:\\apps\\anaconda3\\lib\\site-packages (from google-api-python-client>=1.2->PyDrive) (0.22.0)\n",
            "Requirement already satisfied: google-auth<3.0.0.dev0,>=1.19.0 in c:\\apps\\anaconda3\\lib\\site-packages (from google-api-python-client>=1.2->PyDrive) (2.27.0)\n",
            "Requirement already satisfied: google-auth-httplib2>=0.1.0 in c:\\apps\\anaconda3\\lib\\site-packages (from google-api-python-client>=1.2->PyDrive) (0.2.0)\n",
            "Requirement already satisfied: google-api-core!=2.0.*,!=2.1.*,!=2.2.*,!=2.3.0,<3.0.0.dev0,>=1.31.5 in c:\\apps\\anaconda3\\lib\\site-packages (from google-api-python-client>=1.2->PyDrive) (2.16.1)\n",
            "Requirement already satisfied: uritemplate<5,>=3.0.1 in c:\\apps\\anaconda3\\lib\\site-packages (from google-api-python-client>=1.2->PyDrive) (4.1.1)\n",
            "Requirement already satisfied: pyasn1>=0.1.7 in c:\\apps\\anaconda3\\lib\\site-packages (from oauth2client>=4.0.0->PyDrive) (0.4.8)\n",
            "Requirement already satisfied: pyasn1-modules>=0.0.5 in c:\\apps\\anaconda3\\lib\\site-packages (from oauth2client>=4.0.0->PyDrive) (0.2.8)\n",
            "Requirement already satisfied: rsa>=3.1.4 in c:\\apps\\anaconda3\\lib\\site-packages (from oauth2client>=4.0.0->PyDrive) (4.9)\n",
            "Requirement already satisfied: six>=1.6.1 in c:\\apps\\anaconda3\\lib\\site-packages (from oauth2client>=4.0.0->PyDrive) (1.16.0)\n",
            "Requirement already satisfied: googleapis-common-protos<2.0.dev0,>=1.56.2 in c:\\apps\\anaconda3\\lib\\site-packages (from google-api-core!=2.0.*,!=2.1.*,!=2.2.*,!=2.3.0,<3.0.0.dev0,>=1.31.5->google-api-python-client>=1.2->PyDrive) (1.62.0)\n",
            "Requirement already satisfied: protobuf!=3.20.0,!=3.20.1,!=4.21.0,!=4.21.1,!=4.21.2,!=4.21.3,!=4.21.4,!=4.21.5,<5.0.0.dev0,>=3.19.5 in c:\\apps\\anaconda3\\lib\\site-packages (from google-api-core!=2.0.*,!=2.1.*,!=2.2.*,!=2.3.0,<3.0.0.dev0,>=1.31.5->google-api-python-client>=1.2->PyDrive) (4.25.2)\n",
            "Requirement already satisfied: requests<3.0.0.dev0,>=2.18.0 in c:\\apps\\anaconda3\\lib\\site-packages (from google-api-core!=2.0.*,!=2.1.*,!=2.2.*,!=2.3.0,<3.0.0.dev0,>=1.31.5->google-api-python-client>=1.2->PyDrive) (2.31.0)\n",
            "Requirement already satisfied: cachetools<6.0,>=2.0.0 in c:\\apps\\anaconda3\\lib\\site-packages (from google-auth<3.0.0.dev0,>=1.19.0->google-api-python-client>=1.2->PyDrive) (5.3.2)\n",
            "Requirement already satisfied: pyparsing!=3.0.0,!=3.0.1,!=3.0.2,!=3.0.3,<4,>=2.4.2 in c:\\apps\\anaconda3\\lib\\site-packages (from httplib2<1.dev0,>=0.15.0->google-api-python-client>=1.2->PyDrive) (3.0.9)\n",
            "Requirement already satisfied: charset-normalizer<4,>=2 in c:\\apps\\anaconda3\\lib\\site-packages (from requests<3.0.0.dev0,>=2.18.0->google-api-core!=2.0.*,!=2.1.*,!=2.2.*,!=2.3.0,<3.0.0.dev0,>=1.31.5->google-api-python-client>=1.2->PyDrive) (2.0.4)\n",
            "Requirement already satisfied: idna<4,>=2.5 in c:\\apps\\anaconda3\\lib\\site-packages (from requests<3.0.0.dev0,>=2.18.0->google-api-core!=2.0.*,!=2.1.*,!=2.2.*,!=2.3.0,<3.0.0.dev0,>=1.31.5->google-api-python-client>=1.2->PyDrive) (3.4)\n",
            "Requirement already satisfied: urllib3<3,>=1.21.1 in c:\\apps\\anaconda3\\lib\\site-packages (from requests<3.0.0.dev0,>=2.18.0->google-api-core!=2.0.*,!=2.1.*,!=2.2.*,!=2.3.0,<3.0.0.dev0,>=1.31.5->google-api-python-client>=1.2->PyDrive) (1.26.16)\n",
            "Requirement already satisfied: certifi>=2017.4.17 in c:\\apps\\anaconda3\\lib\\site-packages (from requests<3.0.0.dev0,>=2.18.0->google-api-core!=2.0.*,!=2.1.*,!=2.2.*,!=2.3.0,<3.0.0.dev0,>=1.31.5->google-api-python-client>=1.2->PyDrive) (2023.7.22)\n"
          ]
        },
        {
          "name": "stderr",
          "output_type": "stream",
          "text": [
            "DEPRECATION: Loading egg at c:\\apps\\anaconda3\\lib\\site-packages\\vboxapi-1.0-py3.11.egg is deprecated. pip 23.3 will enforce this behaviour change. A possible replacement is to use pip for package installation..\n"
          ]
        }
      ],
      "source": [
        "!pip install PyDrive"
      ]
    },
    {
      "cell_type": "code",
      "execution_count": 62,
      "metadata": {},
      "outputs": [
        {
          "name": "stdout",
          "output_type": "stream",
          "text": [
            "Requirement already satisfied: google-api-python-client in c:\\apps\\anaconda3\\lib\\site-packages (2.116.0)\n",
            "Requirement already satisfied: google-auth-httplib2 in c:\\apps\\anaconda3\\lib\\site-packages (0.2.0)\n",
            "Requirement already satisfied: google-auth-oauthlib in c:\\apps\\anaconda3\\lib\\site-packages (1.2.0)\n",
            "Requirement already satisfied: httplib2<1.dev0,>=0.15.0 in c:\\apps\\anaconda3\\lib\\site-packages (from google-api-python-client) (0.22.0)\n",
            "Requirement already satisfied: google-auth<3.0.0.dev0,>=1.19.0 in c:\\apps\\anaconda3\\lib\\site-packages (from google-api-python-client) (2.27.0)\n",
            "Requirement already satisfied: google-api-core!=2.0.*,!=2.1.*,!=2.2.*,!=2.3.0,<3.0.0.dev0,>=1.31.5 in c:\\apps\\anaconda3\\lib\\site-packages (from google-api-python-client) (2.16.1)\n",
            "Requirement already satisfied: uritemplate<5,>=3.0.1 in c:\\apps\\anaconda3\\lib\\site-packages (from google-api-python-client) (4.1.1)\n",
            "Requirement already satisfied: requests-oauthlib>=0.7.0 in c:\\apps\\anaconda3\\lib\\site-packages (from google-auth-oauthlib) (1.3.1)\n",
            "Requirement already satisfied: googleapis-common-protos<2.0.dev0,>=1.56.2 in c:\\apps\\anaconda3\\lib\\site-packages (from google-api-core!=2.0.*,!=2.1.*,!=2.2.*,!=2.3.0,<3.0.0.dev0,>=1.31.5->google-api-python-client) (1.62.0)\n",
            "Requirement already satisfied: protobuf!=3.20.0,!=3.20.1,!=4.21.0,!=4.21.1,!=4.21.2,!=4.21.3,!=4.21.4,!=4.21.5,<5.0.0.dev0,>=3.19.5 in c:\\apps\\anaconda3\\lib\\site-packages (from google-api-core!=2.0.*,!=2.1.*,!=2.2.*,!=2.3.0,<3.0.0.dev0,>=1.31.5->google-api-python-client) (4.25.2)\n",
            "Requirement already satisfied: requests<3.0.0.dev0,>=2.18.0 in c:\\apps\\anaconda3\\lib\\site-packages (from google-api-core!=2.0.*,!=2.1.*,!=2.2.*,!=2.3.0,<3.0.0.dev0,>=1.31.5->google-api-python-client) (2.31.0)\n",
            "Requirement already satisfied: cachetools<6.0,>=2.0.0 in c:\\apps\\anaconda3\\lib\\site-packages (from google-auth<3.0.0.dev0,>=1.19.0->google-api-python-client) (5.3.2)\n",
            "Requirement already satisfied: pyasn1-modules>=0.2.1 in c:\\apps\\anaconda3\\lib\\site-packages (from google-auth<3.0.0.dev0,>=1.19.0->google-api-python-client) (0.2.8)\n",
            "Requirement already satisfied: rsa<5,>=3.1.4 in c:\\apps\\anaconda3\\lib\\site-packages (from google-auth<3.0.0.dev0,>=1.19.0->google-api-python-client) (4.9)\n",
            "Requirement already satisfied: pyparsing!=3.0.0,!=3.0.1,!=3.0.2,!=3.0.3,<4,>=2.4.2 in c:\\apps\\anaconda3\\lib\\site-packages (from httplib2<1.dev0,>=0.15.0->google-api-python-client) (3.0.9)\n",
            "Requirement already satisfied: oauthlib>=3.0.0 in c:\\apps\\anaconda3\\lib\\site-packages (from requests-oauthlib>=0.7.0->google-auth-oauthlib) (3.2.2)\n",
            "Requirement already satisfied: pyasn1<0.5.0,>=0.4.6 in c:\\apps\\anaconda3\\lib\\site-packages (from pyasn1-modules>=0.2.1->google-auth<3.0.0.dev0,>=1.19.0->google-api-python-client) (0.4.8)\n",
            "Requirement already satisfied: charset-normalizer<4,>=2 in c:\\apps\\anaconda3\\lib\\site-packages (from requests<3.0.0.dev0,>=2.18.0->google-api-core!=2.0.*,!=2.1.*,!=2.2.*,!=2.3.0,<3.0.0.dev0,>=1.31.5->google-api-python-client) (2.0.4)\n",
            "Requirement already satisfied: idna<4,>=2.5 in c:\\apps\\anaconda3\\lib\\site-packages (from requests<3.0.0.dev0,>=2.18.0->google-api-core!=2.0.*,!=2.1.*,!=2.2.*,!=2.3.0,<3.0.0.dev0,>=1.31.5->google-api-python-client) (3.4)\n",
            "Requirement already satisfied: urllib3<3,>=1.21.1 in c:\\apps\\anaconda3\\lib\\site-packages (from requests<3.0.0.dev0,>=2.18.0->google-api-core!=2.0.*,!=2.1.*,!=2.2.*,!=2.3.0,<3.0.0.dev0,>=1.31.5->google-api-python-client) (1.26.16)\n",
            "Requirement already satisfied: certifi>=2017.4.17 in c:\\apps\\anaconda3\\lib\\site-packages (from requests<3.0.0.dev0,>=2.18.0->google-api-core!=2.0.*,!=2.1.*,!=2.2.*,!=2.3.0,<3.0.0.dev0,>=1.31.5->google-api-python-client) (2023.7.22)\n",
            "Note: you may need to restart the kernel to use updated packages.\n"
          ]
        },
        {
          "name": "stderr",
          "output_type": "stream",
          "text": [
            "DEPRECATION: Loading egg at c:\\apps\\anaconda3\\lib\\site-packages\\vboxapi-1.0-py3.11.egg is deprecated. pip 23.3 will enforce this behaviour change. A possible replacement is to use pip for package installation..\n"
          ]
        }
      ],
      "source": [
        "pip install --upgrade google-api-python-client google-auth-httplib2 google-auth-oauthlib "
      ]
    },
    {
      "cell_type": "code",
      "execution_count": 89,
      "metadata": {},
      "outputs": [
        {
          "name": "stdout",
          "output_type": "stream",
          "text": [
            "Your browser has been opened to visit:\n",
            "\n",
            "    https://accounts.google.com/o/oauth2/auth?client_id=465500413129-0vtor8uqh740qvuh1f8idjg24923eovo.apps.googleusercontent.com&redirect_uri=http%3A%2F%2Flocalhost%3A8080%2F&scope=https%3A%2F%2Fwww.googleapis.com%2Fauth%2Fdrive&access_type=offline&response_type=code\n",
            "\n",
            "Authentication successful.\n",
            "title: Copy of img_align_celeba.zip, id: 1p5xu7R2sUDGLcf6OtS_fx2g3gQhUWaLz\n",
            "title: img_align_celeba.zip, id: 1wP2oKgGc5XEiJ_jjxAsWnoAz_On1dFYn\n",
            "title: style-transfer.ipynb, id: 1DNt3auVkhnWdrEjkOb-TAiMMcivJu3Vt\n",
            "title: assignment-comp3222-comp6246-mediaeval2015-dataset, id: 1sD4_zMZC3Bl20GQtCOSLo-aCoKSKy7pH\n",
            "title: CV_CW2, id: 1PIeICbtCRaIUT6VPyrrPP-JQg0e8RWdd\n",
            "title: GAN.ipynb, id: 1fey9wiqaEx7U9Cdx_LCi2lkGMuJ_WQdF\n",
            "title: data, id: 1F-kb95gpoi3Q1QkjORtm9sBWejt1IzYl\n",
            "title: Colab Notebooks, id: 14Dv4UKgxO_cPUcXyj6VnJe4wTfZ5vWUu\n",
            "title: GANs, id: 1GKp6UP-83tslMW3GIU4JMbtOSRCwh6eo\n",
            "title: My Movie.mp4, id: 1_4Zq_NqC-j0oX6DB_fDmT1TianZ_HhWj\n",
            "title: IMG_2580.png, id: 1sN-kWfsPUdxBvDZC6zlLVnNLCzhVghAd\n",
            "title: IMG_2532.png, id: 12LoigM_D5PIObL0BuaJR3ADW2sGeG2Kt\n",
            "title: IMG_2528.png, id: 1ji073s_LTcIkk9T48-erKIOEi3Xcy3kY\n",
            "title: IMG_2513.png, id: 1D3TCPsa35RYpzDvj_8spZZePl9PDCg-n\n",
            "title: IMG_2477.png, id: 1eYGwrRESgsonqBaUb2EORl_-6KDisWPK\n",
            "title: IMG_2459.png, id: 1GsVow1FQpItrrvD4sZbwTwmtq0bbvQhf\n",
            "title: сицилия 077.png, id: 13wWzPUgCrYKSvrD9qmIEh2FsTz-qifFL\n",
            "title: сицилия 031.png, id: 1WhGrk_QVNMCzZ7KPMwtbQPjk8-X1Ywkw\n",
            "title: сицилия 016.png, id: 1yLpDKr4FRHN5iIpIy-F13-Bxt_g9TRev\n",
            "title: paris 117.png, id: 1OUuv2bilGEFHB-NzLNrPvKsmpas-PYdf\n",
            "title: IMG_5585.JPG, id: 13WhmMPa-fQzVWAStQn11qt9MFiyN8Vfd\n",
            "title: IMG_5584.JPG, id: 1xSmld-9Do6Ph9dbD7x8NSwovVEfGPEoT\n",
            "title: IMG_5583.JPG, id: 19YrlgFSJGMB7dKQ46qwK9BnOSh8jkL_A\n",
            "title: IMG_5586.JPG, id: 1rEzXlRU3D7vJjp-8OEPheXbFA1faikKS\n",
            "title: IMG_5431.MOV, id: 1R4nmt0KUTcTBwa_IjW_-29sEaGT-tLWG\n",
            "title: IMG_5576.jpg, id: 16uLS-byqKINkRQqR-6CkLHLTaGho7gmC\n",
            "title: IMG_5571.JPG, id: 1eh6wuBF0A3dvVFavBnUD4GVITNTaDyTs\n",
            "title: IMG_5570.JPG, id: 1YG1DGI9fOG5YOdMVkwG6Q1KPIC5-2G4n\n",
            "title: IMG_5572.JPG, id: 1DfE6Y44p-kwAkkIyP2SvDLrKe70j6Wwd\n",
            "title: IMG_5569.JPG, id: 1AY-Y0UjZCaguuC5prxIzYjU6u7iGYzEm\n",
            "title: IMG_5566.JPG, id: 1rET1QvX265tIC3ZNOmVPxuLqNn5_A2lo\n",
            "title: IMG_5565.JPG, id: 1YVB-dLl0ry1Kt4oGB0kH-G3LgZhiWJlx\n",
            "title: IMG_5564.JPG, id: 11O9ZiDCBZ3HUcLf6sWBaVQLnEp5m4uzz\n",
            "title: IMG_5563.JPG, id: 1nR24quqZmjUc7xeNlJVhAO2qLqlEut-F\n",
            "title: IMG_5530.HEIC, id: 1iCiafGjmdL1sQyCs6XVax-O9cbzB7a7J\n",
            "title: IMG_5523.HEIC, id: 1tIVf9V_gttqq48PmFPetl9nsr95hSJHh\n",
            "title: IMG_5528.HEIC, id: 1jVojSs_4EqymtUViBPHSqdDyLRXUg2sK\n",
            "title: IMG_5514.HEIC, id: 1HSH41nZREI3krQ-nhum0UZxhRpffCcT6\n",
            "title: IMG_5520.HEIC, id: 1aMCmIB9eEXh5dp__pax_cAFKQboMWi8K\n",
            "title: IMG_5508.HEIC, id: 1d220BtKtfOH_LIoMf09Y0TD6Z_1tWeI6\n",
            "title: IMG_5521.HEIC, id: 1WzFiyr71KkedehaDti3sbcd7g1V9QT-W\n",
            "title: IMG_5519.HEIC, id: 18B6PjqTv3xwaFu162Y2DhsoLDkoJA_ff\n",
            "title: IMG_5505.HEIC, id: 1bT0d1rs1Xo_Y7rkUz6rUC58cVCjGyJqK\n",
            "title: IMG_5504.HEIC, id: 1IhvZvYwkv4dPIXFPvQPGVyVKLNqKtuUW\n",
            "title: IMG_5503.HEIC, id: 1rh1cYOEvIzG1xwuqP762VilCNITKNBgW\n",
            "title: IMG_5502.HEIC, id: 1YJctQrEoa-s--5G0fmAxXCdMEZNfo_go\n",
            "title: IMG_5493.HEIC, id: 1dBB2maXR6lPlKcvqRX3TVyIbdM5_TOcX\n",
            "title: IMG_5487.HEIC, id: 1MzQYPPNBVsCasRT1NB6wR9OrxzjI4wI5\n",
            "title: IMG_5486.HEIC, id: 11Z173R1EVM4GfwEV5ly_JrsAEayh0Cym\n",
            "title: IMG_5485.HEIC, id: 1K5GrKBhlGaT0Fe6bmfxYS_kIxlN840wj\n",
            "title: IMG_5480.HEIC, id: 1qJRLktAqcQO4q4mHBNRLCM_7sJHluuG4\n",
            "title: IMG_5482.HEIC, id: 1TJKWNVtcmAJ3pew7HRZlowOPyXQYkWpG\n",
            "title: IMG_5481.HEIC, id: 13hh1pgiOl57xCNBHYZdALIolSoQX9KD-\n",
            "title: IMG_5479.HEIC, id: 1d6e7ifC1GVmYvEp_ct5gaFIGFs-lp_aR\n",
            "title: IMG_5478.HEIC, id: 1iq7bV2LKUryjIh3J9PZj-ty7T_teTM7P\n",
            "title: IMG_5477.HEIC, id: 1nPXQOAm5jEAmpWI_vvc6W7dVNoR6DuE9\n",
            "title: IMG_5476.HEIC, id: 1YFeXqvapw-83tbyV8_v8_fFNnbMvCWwN\n",
            "title: IMG_5474.HEIC, id: 19BOeg4vml0GRI9If49xyocyh_eHTCBXE\n",
            "title: IMG_5475.HEIC, id: 1U6pWNjRqK8uCRwkYiLufBtTmpeNoRdPA\n",
            "title: IMG_5472.HEIC, id: 1zY879oreVAW4h0nJNLmnMWm6Tt03aMDD\n",
            "title: IMG_5473.HEIC, id: 1uhwLyqQ-SeOXZDGlulJpN7spdpVaavCz\n",
            "title: IMG_5469.HEIC, id: 1QHDZ3AhiyVSDN1ac7_loF6RcNPs-WT7v\n",
            "title: IMG_5468.HEIC, id: 1SwnVMj5Bsbo4hPMGPWx1dQmLXm-_x3zg\n",
            "title: IMG_5470.HEIC, id: 1a6K3wquVmtiLQaXd9K7nDNm1zLNItywP\n",
            "title: IMG_5467.HEIC, id: 1MDikqilTEaJ7dskISXjn4fgrg1Sp8x0C\n",
            "title: IMG_5465.HEIC, id: 14AcWqtMQ6Dzfvb_TWy4gYAum81R83Ghm\n",
            "title: IMG_5466.HEIC, id: 12pwvTl5cRkgcjkiy8zw2c74Csiw8WFHI\n",
            "title: IMG_5461.HEIC, id: 1ygXpup0OYdHTH5Xct01aX4N06BLXICBP\n",
            "title: IMG_5462.HEIC, id: 1wB6H4iMBNt0E8z7GKLi9vF0tT50JM1Fx\n",
            "title: IMG_5458.HEIC, id: 1EIgaPVVqJU1avop9-LfL6Mdox4hpEwIB\n",
            "title: IMG_5460.HEIC, id: 1GFhwPsKAISKkTUaD7tk2VNlAcSRdPnhB\n",
            "title: IMG_5459.HEIC, id: 1mDtYxtdDxP_nUIGxY-RGbjvBiA9m7Pm8\n",
            "title: IMG_5457.HEIC, id: 1LH_C7QEWlxY51irV2RDGg6YsE7IpvHVW\n",
            "title: IMG_5455.HEIC, id: 15bzhKgS1VxPqsfMLr2OPlJyYv3JaMdz-\n",
            "title: IMG_5456.HEIC, id: 1bDWKLuafxGGnrHK5E1mTKZXnaGgKFxpq\n",
            "title: IMG_5454.HEIC, id: 1m_PX3NRcuhQiQls64jLg6uHF1qYtU0Ut\n",
            "title: IMG_5453.HEIC, id: 1bjj_wxs1qPBxCPo54-WfkXTz71wtugpa\n",
            "title: IMG_5452.HEIC, id: 1PImXiEhn8TZswbkz_8MokWttaFY16Zf4\n",
            "title: IMG_5450.HEIC, id: 1hDvmDzpRrhIJS_Om6dRueQpunZouABgw\n",
            "title: IMG_5451.HEIC, id: 1xGFcOFD1Q3zq5y-GwHg_lg1G8YogIBR6\n",
            "title: IMG_5449.HEIC, id: 1gyNowB7muiA-3m8dUQGUyMaBnwxQxMOu\n",
            "title: IMG_5448.HEIC, id: 160e29UNKY9HV1IGF-fUnoq0-IGLi_GFx\n",
            "title: IMG_5447.HEIC, id: 1KNK9IC0sT3ZvwO-SClnq2-XsJZap6M8r\n",
            "title: IMG_5443.HEIC, id: 1aHO2h6MwqA9om9nnEyKMrSh8YOk8L-ad\n",
            "title: IMG_5440.HEIC, id: 1NOVWfLjIkvQahJzBCYAsWKaMKgKyXyb7\n",
            "title: IMG_5442.HEIC, id: 1IiEnqnz4EsgQFFmZ5O2pYWMTiAz7Um4W\n",
            "title: IMG_5433.HEIC, id: 1Y2Ivv973PZqU6V77Ze8iX1kCKMLCn-TL\n",
            "title: IMG_5437.HEIC, id: 1_XNz06Mj0FUjHN6_F9Lol7U8CVXX52IG\n",
            "title: IMG_5435.HEIC, id: 1G_65h0x-HO0v75VfAUJ3suKe4kAoYwM2\n",
            "title: IMG_5439.HEIC, id: 1_3zZkdripmTM42Gt-CgWI3WWQdNadQRZ\n",
            "title: IMG_5436.HEIC, id: 1feOa8_yAmyxXsA85Ufwe2ip-wiJvmNaa\n",
            "title: IMG_5438.HEIC, id: 1XUBbhkg0ArjgXAPD3y2XS734Y9fAQSt7\n",
            "title: IMG_5434.HEIC, id: 1edDQuo9P2864HGsXoVkJPAkdjaZohdti\n",
            "title: IMG_5432.HEIC, id: 1qVaM5BymcotkG_aL0CX6bYNTHBDVUvyM\n"
          ]
        }
      ],
      "source": [
        "from pydrive.auth import GoogleAuth \n",
        "\n",
        "from pydrive.drive import GoogleDrive \n",
        "# Initialize GoogleAuth \n",
        "gauth = GoogleAuth() \n",
        "gauth.LoadClientConfigFile(\"client_secret_465500413129-0vtor8uqh740qvuh1f8idjg24923eovo.apps.googleusercontent.com.json\") \n",
        "\n",
        "# Authenticate, if required \n",
        "\n",
        "if gauth.credentials is None: \n",
        "\n",
        "    # Authenticate if they're not there \n",
        "\n",
        "    gauth.LocalWebserverAuth() \n",
        "\n",
        "elif gauth.access_token_expired: \n",
        "\n",
        "    # Refresh them if expired \n",
        "\n",
        "    gauth.Refresh() \n",
        "\n",
        "else: \n",
        "\n",
        "    # Initialize the saved creds \n",
        "\n",
        "    gauth.Authorize() \n",
        "\n",
        "  \n",
        "\n",
        "# Create GoogleDrive instance with authenticated GoogleAuth instance \n",
        "\n",
        "drive = GoogleDrive(gauth) \n",
        "\n",
        "  \n",
        "\n",
        "# List files in the root of your Google Drive \n",
        "\n",
        "file_list = drive.ListFile({'q': \"'root' in parents and trashed=false\"}).GetList() \n",
        "\n",
        "for file1 in file_list: \n",
        "\n",
        "    print('title: %s, id: %s' % (file1['title'], file1['id'])) "
      ]
    },
    {
      "cell_type": "code",
      "execution_count": 65,
      "metadata": {},
      "outputs": [
        {
          "name": "stdout",
          "output_type": "stream",
          "text": [
            "Requirement already satisfied: PyDrive in c:\\apps\\anaconda3\\lib\\site-packages (1.3.1)\n",
            "Requirement already satisfied: google-api-python-client>=1.2 in c:\\apps\\anaconda3\\lib\\site-packages (from PyDrive) (2.116.0)\n",
            "Requirement already satisfied: oauth2client>=4.0.0 in c:\\apps\\anaconda3\\lib\\site-packages (from PyDrive) (4.1.3)\n",
            "Requirement already satisfied: PyYAML>=3.0 in c:\\apps\\anaconda3\\lib\\site-packages (from PyDrive) (6.0)\n",
            "Requirement already satisfied: httplib2<1.dev0,>=0.15.0 in c:\\apps\\anaconda3\\lib\\site-packages (from google-api-python-client>=1.2->PyDrive) (0.22.0)\n",
            "Requirement already satisfied: google-auth<3.0.0.dev0,>=1.19.0 in c:\\apps\\anaconda3\\lib\\site-packages (from google-api-python-client>=1.2->PyDrive) (2.27.0)\n",
            "Requirement already satisfied: google-auth-httplib2>=0.1.0 in c:\\apps\\anaconda3\\lib\\site-packages (from google-api-python-client>=1.2->PyDrive) (0.2.0)\n",
            "Requirement already satisfied: google-api-core!=2.0.*,!=2.1.*,!=2.2.*,!=2.3.0,<3.0.0.dev0,>=1.31.5 in c:\\apps\\anaconda3\\lib\\site-packages (from google-api-python-client>=1.2->PyDrive) (2.16.1)\n",
            "Requirement already satisfied: uritemplate<5,>=3.0.1 in c:\\apps\\anaconda3\\lib\\site-packages (from google-api-python-client>=1.2->PyDrive) (4.1.1)\n",
            "Requirement already satisfied: pyasn1>=0.1.7 in c:\\apps\\anaconda3\\lib\\site-packages (from oauth2client>=4.0.0->PyDrive) (0.4.8)\n",
            "Requirement already satisfied: pyasn1-modules>=0.0.5 in c:\\apps\\anaconda3\\lib\\site-packages (from oauth2client>=4.0.0->PyDrive) (0.2.8)\n",
            "Requirement already satisfied: rsa>=3.1.4 in c:\\apps\\anaconda3\\lib\\site-packages (from oauth2client>=4.0.0->PyDrive) (4.9)\n",
            "Requirement already satisfied: six>=1.6.1 in c:\\apps\\anaconda3\\lib\\site-packages (from oauth2client>=4.0.0->PyDrive) (1.16.0)\n",
            "Requirement already satisfied: googleapis-common-protos<2.0.dev0,>=1.56.2 in c:\\apps\\anaconda3\\lib\\site-packages (from google-api-core!=2.0.*,!=2.1.*,!=2.2.*,!=2.3.0,<3.0.0.dev0,>=1.31.5->google-api-python-client>=1.2->PyDrive) (1.62.0)\n",
            "Requirement already satisfied: protobuf!=3.20.0,!=3.20.1,!=4.21.0,!=4.21.1,!=4.21.2,!=4.21.3,!=4.21.4,!=4.21.5,<5.0.0.dev0,>=3.19.5 in c:\\apps\\anaconda3\\lib\\site-packages (from google-api-core!=2.0.*,!=2.1.*,!=2.2.*,!=2.3.0,<3.0.0.dev0,>=1.31.5->google-api-python-client>=1.2->PyDrive) (4.25.2)\n",
            "Requirement already satisfied: requests<3.0.0.dev0,>=2.18.0 in c:\\apps\\anaconda3\\lib\\site-packages (from google-api-core!=2.0.*,!=2.1.*,!=2.2.*,!=2.3.0,<3.0.0.dev0,>=1.31.5->google-api-python-client>=1.2->PyDrive) (2.31.0)\n",
            "Requirement already satisfied: cachetools<6.0,>=2.0.0 in c:\\apps\\anaconda3\\lib\\site-packages (from google-auth<3.0.0.dev0,>=1.19.0->google-api-python-client>=1.2->PyDrive) (5.3.2)\n",
            "Requirement already satisfied: pyparsing!=3.0.0,!=3.0.1,!=3.0.2,!=3.0.3,<4,>=2.4.2 in c:\\apps\\anaconda3\\lib\\site-packages (from httplib2<1.dev0,>=0.15.0->google-api-python-client>=1.2->PyDrive) (3.0.9)\n",
            "Requirement already satisfied: charset-normalizer<4,>=2 in c:\\apps\\anaconda3\\lib\\site-packages (from requests<3.0.0.dev0,>=2.18.0->google-api-core!=2.0.*,!=2.1.*,!=2.2.*,!=2.3.0,<3.0.0.dev0,>=1.31.5->google-api-python-client>=1.2->PyDrive) (2.0.4)\n",
            "Requirement already satisfied: idna<4,>=2.5 in c:\\apps\\anaconda3\\lib\\site-packages (from requests<3.0.0.dev0,>=2.18.0->google-api-core!=2.0.*,!=2.1.*,!=2.2.*,!=2.3.0,<3.0.0.dev0,>=1.31.5->google-api-python-client>=1.2->PyDrive) (3.4)\n",
            "Requirement already satisfied: urllib3<3,>=1.21.1 in c:\\apps\\anaconda3\\lib\\site-packages (from requests<3.0.0.dev0,>=2.18.0->google-api-core!=2.0.*,!=2.1.*,!=2.2.*,!=2.3.0,<3.0.0.dev0,>=1.31.5->google-api-python-client>=1.2->PyDrive) (1.26.16)\n",
            "Requirement already satisfied: certifi>=2017.4.17 in c:\\apps\\anaconda3\\lib\\site-packages (from requests<3.0.0.dev0,>=2.18.0->google-api-core!=2.0.*,!=2.1.*,!=2.2.*,!=2.3.0,<3.0.0.dev0,>=1.31.5->google-api-python-client>=1.2->PyDrive) (2023.7.22)\n"
          ]
        },
        {
          "name": "stderr",
          "output_type": "stream",
          "text": [
            "DEPRECATION: Loading egg at c:\\apps\\anaconda3\\lib\\site-packages\\vboxapi-1.0-py3.11.egg is deprecated. pip 23.3 will enforce this behaviour change. A possible replacement is to use pip for package installation..\n"
          ]
        }
      ],
      "source": [
        "!pip install PyDrive"
      ]
    },
    {
      "cell_type": "code",
      "execution_count": 68,
      "metadata": {
        "colab": {
          "base_uri": "https://localhost:8080/"
        },
        "id": "m1FTGqpe-dv3",
        "outputId": "8d028182-0df7-460e-cd6d-e4bba531413f"
      },
      "outputs": [
        {
          "ename": "ModuleNotFoundError",
          "evalue": "No module named 'google.colab'",
          "output_type": "error",
          "traceback": [
            "\u001b[1;31m---------------------------------------------------------------------------\u001b[0m",
            "\u001b[1;31mModuleNotFoundError\u001b[0m                       Traceback (most recent call last)",
            "\u001b[1;32mc:\\Users\\gdi1u21\\Downloads\\WGAN_FID.ipynb Cell 6\u001b[0m line \u001b[0;36m1\n\u001b[1;32m----> <a href='vscode-notebook-cell:/c%3A/Users/gdi1u21/Downloads/WGAN_FID.ipynb#W4sZmlsZQ%3D%3D?line=0'>1</a>\u001b[0m \u001b[39mfrom\u001b[39;00m \u001b[39mgoogle\u001b[39;00m\u001b[39m.\u001b[39;00m\u001b[39mcolab\u001b[39;00m \u001b[39mimport\u001b[39;00m drive\n\u001b[0;32m      <a href='vscode-notebook-cell:/c%3A/Users/gdi1u21/Downloads/WGAN_FID.ipynb#W4sZmlsZQ%3D%3D?line=1'>2</a>\u001b[0m drive\u001b[39m.\u001b[39mmount(\u001b[39m'\u001b[39m\u001b[39m/gdrive\u001b[39m\u001b[39m'\u001b[39m)\n",
            "\u001b[1;31mModuleNotFoundError\u001b[0m: No module named 'google.colab'"
          ]
        }
      ],
      "source": [
        "from google.colab import drive\n",
        "drive.mount('/gdrive')"
      ]
    },
    {
      "cell_type": "code",
      "execution_count": null,
      "metadata": {
        "id": "2OTowqwf-nb3"
      },
      "outputs": [
        {
          "name": "stderr",
          "output_type": "stream",
          "text": [
            "'unzip' is not recognized as an internal or external command,\n",
            "operable program or batch file.\n"
          ]
        }
      ],
      "source": [
        "!unzip img_align_celeba.zip"
      ]
    },
    {
      "cell_type": "code",
      "execution_count": 69,
      "metadata": {
        "colab": {
          "base_uri": "https://localhost:8080/"
        },
        "id": "GPGe3Z5W-ov0",
        "outputId": "adeabf1d-e413-49df-ef36-6328e649bff2"
      },
      "outputs": [
        {
          "name": "stderr",
          "output_type": "stream",
          "text": [
            "'ls' is not recognized as an internal or external command,\n",
            "operable program or batch file.\n"
          ]
        }
      ],
      "source": [
        "!ls /gdrive/MyDrive/data/CelebA/Img"
      ]
    },
    {
      "cell_type": "code",
      "execution_count": 70,
      "metadata": {
        "colab": {
          "base_uri": "https://localhost:8080/"
        },
        "id": "uy6BW_12BH2b",
        "outputId": "7ae2be64-3dc8-467b-a34e-e13c67b18126"
      },
      "outputs": [
        {
          "name": "stdout",
          "output_type": "stream",
          "text": [
            "Requirement already satisfied: comet_ml in c:\\apps\\anaconda3\\lib\\site-packages (3.37.1)\n",
            "Requirement already satisfied: jsonschema!=3.1.0,>=2.6.0 in c:\\apps\\anaconda3\\lib\\site-packages (from comet_ml) (4.17.3)\n",
            "Requirement already satisfied: psutil>=5.6.3 in c:\\apps\\anaconda3\\lib\\site-packages (from comet_ml) (5.9.0)\n",
            "Requirement already satisfied: python-box<7.0.0 in c:\\apps\\anaconda3\\lib\\site-packages (from comet_ml) (6.1.0)\n",
            "Requirement already satisfied: requests-toolbelt>=0.8.0 in c:\\apps\\anaconda3\\lib\\site-packages (from comet_ml) (1.0.0)\n",
            "Requirement already satisfied: requests>=2.18.4 in c:\\apps\\anaconda3\\lib\\site-packages (from comet_ml) (2.31.0)\n",
            "Requirement already satisfied: semantic-version>=2.8.0 in c:\\apps\\anaconda3\\lib\\site-packages (from comet_ml) (2.10.0)\n",
            "Requirement already satisfied: sentry-sdk>=1.1.0 in c:\\apps\\anaconda3\\lib\\site-packages (from comet_ml) (1.40.0)\n",
            "Requirement already satisfied: simplejson in c:\\apps\\anaconda3\\lib\\site-packages (from comet_ml) (3.19.2)\n",
            "Requirement already satisfied: six in c:\\apps\\anaconda3\\lib\\site-packages (from comet_ml) (1.16.0)\n",
            "Requirement already satisfied: urllib3>=1.21.1 in c:\\apps\\anaconda3\\lib\\site-packages (from comet_ml) (1.26.16)\n",
            "Requirement already satisfied: websocket-client<1.4.0,>=0.55.0 in c:\\apps\\anaconda3\\lib\\site-packages (from comet_ml) (0.58.0)\n",
            "Requirement already satisfied: wrapt>=1.11.2 in c:\\apps\\anaconda3\\lib\\site-packages (from comet_ml) (1.14.1)\n",
            "Requirement already satisfied: wurlitzer>=1.0.2 in c:\\apps\\anaconda3\\lib\\site-packages (from comet_ml) (3.0.3)\n",
            "Requirement already satisfied: everett[ini]<3.2.0,>=1.0.1 in c:\\apps\\anaconda3\\lib\\site-packages (from comet_ml) (3.1.0)\n",
            "Requirement already satisfied: dulwich!=0.20.33,>=0.20.6 in c:\\apps\\anaconda3\\lib\\site-packages (from comet_ml) (0.21.7)\n",
            "Requirement already satisfied: rich>=13.3.2 in c:\\apps\\anaconda3\\lib\\site-packages (from comet_ml) (13.7.0)\n",
            "Requirement already satisfied: configobj in c:\\apps\\anaconda3\\lib\\site-packages (from everett[ini]<3.2.0,>=1.0.1->comet_ml) (5.0.8)\n",
            "Requirement already satisfied: attrs>=17.4.0 in c:\\apps\\anaconda3\\lib\\site-packages (from jsonschema!=3.1.0,>=2.6.0->comet_ml) (22.1.0)\n",
            "Requirement already satisfied: pyrsistent!=0.17.0,!=0.17.1,!=0.17.2,>=0.14.0 in c:\\apps\\anaconda3\\lib\\site-packages (from jsonschema!=3.1.0,>=2.6.0->comet_ml) (0.18.0)\n",
            "Requirement already satisfied: charset-normalizer<4,>=2 in c:\\apps\\anaconda3\\lib\\site-packages (from requests>=2.18.4->comet_ml) (2.0.4)\n",
            "Requirement already satisfied: idna<4,>=2.5 in c:\\apps\\anaconda3\\lib\\site-packages (from requests>=2.18.4->comet_ml) (3.4)\n",
            "Requirement already satisfied: certifi>=2017.4.17 in c:\\apps\\anaconda3\\lib\\site-packages (from requests>=2.18.4->comet_ml) (2023.7.22)\n",
            "Requirement already satisfied: markdown-it-py>=2.2.0 in c:\\apps\\anaconda3\\lib\\site-packages (from rich>=13.3.2->comet_ml) (2.2.0)\n",
            "Requirement already satisfied: pygments<3.0.0,>=2.13.0 in c:\\apps\\anaconda3\\lib\\site-packages (from rich>=13.3.2->comet_ml) (2.15.1)\n",
            "Requirement already satisfied: mdurl~=0.1 in c:\\apps\\anaconda3\\lib\\site-packages (from markdown-it-py>=2.2.0->rich>=13.3.2->comet_ml) (0.1.0)\n"
          ]
        },
        {
          "name": "stderr",
          "output_type": "stream",
          "text": [
            "DEPRECATION: Loading egg at c:\\apps\\anaconda3\\lib\\site-packages\\vboxapi-1.0-py3.11.egg is deprecated. pip 23.3 will enforce this behaviour change. A possible replacement is to use pip for package installation..\n"
          ]
        }
      ],
      "source": [
        "!pip install comet_ml"
      ]
    },
    {
      "cell_type": "code",
      "execution_count": 71,
      "metadata": {},
      "outputs": [
        {
          "name": "stdout",
          "output_type": "stream",
          "text": [
            "Requirement already satisfied: torch in c:\\apps\\anaconda3\\lib\\site-packages (2.2.0)\n",
            "Requirement already satisfied: filelock in c:\\apps\\anaconda3\\lib\\site-packages (from torch) (3.9.0)\n",
            "Requirement already satisfied: typing-extensions>=4.8.0 in c:\\apps\\anaconda3\\lib\\site-packages (from torch) (4.9.0)\n",
            "Requirement already satisfied: sympy in c:\\apps\\anaconda3\\lib\\site-packages (from torch) (1.11.1)\n",
            "Requirement already satisfied: networkx in c:\\apps\\anaconda3\\lib\\site-packages (from torch) (3.1)\n",
            "Requirement already satisfied: jinja2 in c:\\apps\\anaconda3\\lib\\site-packages (from torch) (3.1.2)\n",
            "Requirement already satisfied: fsspec in c:\\apps\\anaconda3\\lib\\site-packages (from torch) (2023.3.0)\n",
            "Requirement already satisfied: MarkupSafe>=2.0 in c:\\apps\\anaconda3\\lib\\site-packages (from jinja2->torch) (2.1.1)\n",
            "Requirement already satisfied: mpmath>=0.19 in c:\\apps\\anaconda3\\lib\\site-packages (from sympy->torch) (1.3.0)\n"
          ]
        },
        {
          "name": "stderr",
          "output_type": "stream",
          "text": [
            "DEPRECATION: Loading egg at c:\\apps\\anaconda3\\lib\\site-packages\\vboxapi-1.0-py3.11.egg is deprecated. pip 23.3 will enforce this behaviour change. A possible replacement is to use pip for package installation..\n"
          ]
        }
      ],
      "source": [
        "!pip install torch"
      ]
    },
    {
      "cell_type": "code",
      "execution_count": 72,
      "metadata": {
        "colab": {
          "base_uri": "https://localhost:8080/"
        },
        "id": "Zw-2kW2-BIeL",
        "outputId": "8cbdb3c8-3443-4fd5-d75c-218575b5023f"
      },
      "outputs": [
        {
          "name": "stderr",
          "output_type": "stream",
          "text": [
            "\u001b[1;38;5;39mCOMET INFO:\u001b[0m ---------------------------------------------------------------------------------------\n",
            "\u001b[1;38;5;39mCOMET INFO:\u001b[0m Comet.ml Experiment Summary\n",
            "\u001b[1;38;5;39mCOMET INFO:\u001b[0m ---------------------------------------------------------------------------------------\n",
            "\u001b[1;38;5;39mCOMET INFO:\u001b[0m   Data:\n",
            "\u001b[1;38;5;39mCOMET INFO:\u001b[0m     display_summary_level : 1\n",
            "\u001b[1;38;5;39mCOMET INFO:\u001b[0m     url                   : https://www.comet.com/gdi1u21/wgan-with-fr-chet-inception-distance/0829152e2e664fc29a4106d1a6052fa9\n",
            "\u001b[1;38;5;39mCOMET INFO:\u001b[0m   Uploads:\n",
            "\u001b[1;38;5;39mCOMET INFO:\u001b[0m     conda-environment-definition : 1\n",
            "\u001b[1;38;5;39mCOMET INFO:\u001b[0m     conda-info                   : 1\n",
            "\u001b[1;38;5;39mCOMET INFO:\u001b[0m     conda-specification          : 1\n",
            "\u001b[1;38;5;39mCOMET INFO:\u001b[0m     environment details          : 1\n",
            "\u001b[1;38;5;39mCOMET INFO:\u001b[0m     filename                     : 1\n",
            "\u001b[1;38;5;39mCOMET INFO:\u001b[0m     installed packages           : 1\n",
            "\u001b[1;38;5;39mCOMET INFO:\u001b[0m     notebook                     : 1\n",
            "\u001b[1;38;5;39mCOMET INFO:\u001b[0m     source_code                  : 1\n",
            "\u001b[1;38;5;39mCOMET INFO:\u001b[0m \n",
            "\u001b[1;38;5;214mCOMET WARNING:\u001b[0m As you are running in a Jupyter environment, you will need to call `experiment.end()` when finished to ensure all metrics and code are logged before exiting.\n",
            "\u001b[1;38;5;39mCOMET INFO:\u001b[0m Couldn't find a Git repository in 'c:\\\\Users\\\\gdi1u21\\\\Downloads' nor in any parent directory. Set `COMET_GIT_DIRECTORY` if your Git Repository is elsewhere.\n",
            "\u001b[1;38;5;39mCOMET INFO:\u001b[0m Experiment is live on comet.com https://www.comet.com/gdi1u21/wgan-with-fr-chet-inception-distance/cea49ee742fd498abea4802b7fa8ee51\n",
            "\n"
          ]
        }
      ],
      "source": [
        "from comet_ml import Experiment\n",
        "from comet_ml.integration.pytorch import log_model\n",
        "\n",
        "experiment = Experiment(\n",
        "  api_key=\"t0zqSwN0yEbycxLxznUqLTkHU\",\n",
        "  project_name=\"wgan-with-fr-chet-inception-distance\",\n",
        "  workspace=\"gdi1u21\"\n",
        ")"
      ]
    },
    {
      "cell_type": "code",
      "execution_count": 73,
      "metadata": {
        "id": "6Jke8FgiBLdt"
      },
      "outputs": [
        {
          "name": "stdout",
          "output_type": "stream",
          "text": [
            "Requirement already satisfied: torchvision in c:\\apps\\anaconda3\\lib\\site-packages (0.17.0)\n",
            "Requirement already satisfied: numpy in c:\\apps\\anaconda3\\lib\\site-packages (from torchvision) (1.24.3)\n",
            "Requirement already satisfied: requests in c:\\apps\\anaconda3\\lib\\site-packages (from torchvision) (2.31.0)\n",
            "Requirement already satisfied: torch==2.2.0 in c:\\apps\\anaconda3\\lib\\site-packages (from torchvision) (2.2.0)\n",
            "Requirement already satisfied: pillow!=8.3.*,>=5.3.0 in c:\\apps\\anaconda3\\lib\\site-packages (from torchvision) (9.4.0)\n",
            "Requirement already satisfied: filelock in c:\\apps\\anaconda3\\lib\\site-packages (from torch==2.2.0->torchvision) (3.9.0)\n",
            "Requirement already satisfied: typing-extensions>=4.8.0 in c:\\apps\\anaconda3\\lib\\site-packages (from torch==2.2.0->torchvision) (4.9.0)\n",
            "Requirement already satisfied: sympy in c:\\apps\\anaconda3\\lib\\site-packages (from torch==2.2.0->torchvision) (1.11.1)\n",
            "Requirement already satisfied: networkx in c:\\apps\\anaconda3\\lib\\site-packages (from torch==2.2.0->torchvision) (3.1)\n",
            "Requirement already satisfied: jinja2 in c:\\apps\\anaconda3\\lib\\site-packages (from torch==2.2.0->torchvision) (3.1.2)\n",
            "Requirement already satisfied: fsspec in c:\\apps\\anaconda3\\lib\\site-packages (from torch==2.2.0->torchvision) (2023.3.0)\n",
            "Requirement already satisfied: charset-normalizer<4,>=2 in c:\\apps\\anaconda3\\lib\\site-packages (from requests->torchvision) (2.0.4)\n",
            "Requirement already satisfied: idna<4,>=2.5 in c:\\apps\\anaconda3\\lib\\site-packages (from requests->torchvision) (3.4)\n",
            "Requirement already satisfied: urllib3<3,>=1.21.1 in c:\\apps\\anaconda3\\lib\\site-packages (from requests->torchvision) (1.26.16)\n",
            "Requirement already satisfied: certifi>=2017.4.17 in c:\\apps\\anaconda3\\lib\\site-packages (from requests->torchvision) (2023.7.22)\n",
            "Requirement already satisfied: MarkupSafe>=2.0 in c:\\apps\\anaconda3\\lib\\site-packages (from jinja2->torch==2.2.0->torchvision) (2.1.1)\n",
            "Requirement already satisfied: mpmath>=0.19 in c:\\apps\\anaconda3\\lib\\site-packages (from sympy->torch==2.2.0->torchvision) (1.3.0)\n"
          ]
        },
        {
          "name": "stderr",
          "output_type": "stream",
          "text": [
            "DEPRECATION: Loading egg at c:\\apps\\anaconda3\\lib\\site-packages\\vboxapi-1.0-py3.11.egg is deprecated. pip 23.3 will enforce this behaviour change. A possible replacement is to use pip for package installation..\n"
          ]
        }
      ],
      "source": [
        "!pip install torchvision"
      ]
    },
    {
      "cell_type": "code",
      "execution_count": null,
      "metadata": {},
      "outputs": [
        {
          "name": "stdout",
          "output_type": "stream",
          "text": [
            "Collecting gdown\n",
            "  Obtaining dependency information for gdown from https://files.pythonhosted.org/packages/9e/db/c5dad38733f0995dea4480de38df1b3f6222b77b0dc89aad2402d86e2ff4/gdown-5.0.1-py3-none-any.whl.metadata\n",
            "  Downloading gdown-5.0.1-py3-none-any.whl.metadata (5.6 kB)\n",
            "Requirement already satisfied: beautifulsoup4 in c:\\apps\\anaconda3\\lib\\site-packages (from gdown) (4.12.2)\n",
            "Requirement already satisfied: filelock in c:\\apps\\anaconda3\\lib\\site-packages (from gdown) (3.9.0)\n",
            "Requirement already satisfied: requests[socks] in c:\\apps\\anaconda3\\lib\\site-packages (from gdown) (2.31.0)\n",
            "Requirement already satisfied: tqdm in c:\\apps\\anaconda3\\lib\\site-packages (from gdown) (4.65.0)\n",
            "Requirement already satisfied: soupsieve>1.2 in c:\\apps\\anaconda3\\lib\\site-packages (from beautifulsoup4->gdown) (2.4)\n",
            "Requirement already satisfied: charset-normalizer<4,>=2 in c:\\apps\\anaconda3\\lib\\site-packages (from requests[socks]->gdown) (2.0.4)\n",
            "Requirement already satisfied: idna<4,>=2.5 in c:\\apps\\anaconda3\\lib\\site-packages (from requests[socks]->gdown) (3.4)\n",
            "Requirement already satisfied: urllib3<3,>=1.21.1 in c:\\apps\\anaconda3\\lib\\site-packages (from requests[socks]->gdown) (1.26.16)\n",
            "Requirement already satisfied: certifi>=2017.4.17 in c:\\apps\\anaconda3\\lib\\site-packages (from requests[socks]->gdown) (2023.7.22)\n",
            "Requirement already satisfied: PySocks!=1.5.7,>=1.5.6 in c:\\apps\\anaconda3\\lib\\site-packages (from requests[socks]->gdown) (1.7.1)\n",
            "Requirement already satisfied: colorama in c:\\apps\\anaconda3\\lib\\site-packages (from tqdm->gdown) (0.4.6)\n",
            "Downloading gdown-5.0.1-py3-none-any.whl (16 kB)\n",
            "Installing collected packages: gdown\n",
            "Successfully installed gdown-5.0.1\n"
          ]
        },
        {
          "name": "stderr",
          "output_type": "stream",
          "text": [
            "DEPRECATION: Loading egg at c:\\apps\\anaconda3\\lib\\site-packages\\vboxapi-1.0-py3.11.egg is deprecated. pip 23.3 will enforce this behaviour change. A possible replacement is to use pip for package installation..\n"
          ]
        },
        {
          "name": "stdout",
          "output_type": "stream",
          "text": [
            "Requirement already satisfied: requests in c:\\apps\\anaconda3\\lib\\site-packages (2.31.0)\n",
            "Requirement already satisfied: charset-normalizer<4,>=2 in c:\\apps\\anaconda3\\lib\\site-packages (from requests) (2.0.4)\n",
            "Requirement already satisfied: idna<4,>=2.5 in c:\\apps\\anaconda3\\lib\\site-packages (from requests) (3.4)\n",
            "Requirement already satisfied: urllib3<3,>=1.21.1 in c:\\apps\\anaconda3\\lib\\site-packages (from requests) (1.26.16)\n",
            "Requirement already satisfied: certifi>=2017.4.17 in c:\\apps\\anaconda3\\lib\\site-packages (from requests) (2023.7.22)\n"
          ]
        },
        {
          "name": "stderr",
          "output_type": "stream",
          "text": [
            "DEPRECATION: Loading egg at c:\\apps\\anaconda3\\lib\\site-packages\\vboxapi-1.0-py3.11.egg is deprecated. pip 23.3 will enforce this behaviour change. A possible replacement is to use pip for package installation..\n",
            "DEPRECATION: Loading egg at c:\\apps\\anaconda3\\lib\\site-packages\\vboxapi-1.0-py3.11.egg is deprecated. pip 23.3 will enforce this behaviour change. A possible replacement is to use pip for package installation..\n",
            "ERROR: Could not find a version that satisfies the requirement PIL (from versions: none)\n",
            "ERROR: No matching distribution found for PIL\n"
          ]
        },
        {
          "name": "stdout",
          "output_type": "stream",
          "text": [
            "Collecting natsort\n",
            "  Obtaining dependency information for natsort from https://files.pythonhosted.org/packages/ef/82/7a9d0550484a62c6da82858ee9419f3dd1ccc9aa1c26a1e43da3ecd20b0d/natsort-8.4.0-py3-none-any.whl.metadata\n",
            "  Downloading natsort-8.4.0-py3-none-any.whl.metadata (21 kB)\n",
            "Downloading natsort-8.4.0-py3-none-any.whl (38 kB)\n",
            "Installing collected packages: natsort\n",
            "Successfully installed natsort-8.4.0\n"
          ]
        },
        {
          "name": "stderr",
          "output_type": "stream",
          "text": [
            "DEPRECATION: Loading egg at c:\\apps\\anaconda3\\lib\\site-packages\\vboxapi-1.0-py3.11.egg is deprecated. pip 23.3 will enforce this behaviour change. A possible replacement is to use pip for package installation..\n"
          ]
        },
        {
          "name": "stdout",
          "output_type": "stream",
          "text": [
            "Requirement already satisfied: numpy in c:\\apps\\anaconda3\\lib\\site-packages (1.24.3)\n"
          ]
        },
        {
          "name": "stderr",
          "output_type": "stream",
          "text": [
            "DEPRECATION: Loading egg at c:\\apps\\anaconda3\\lib\\site-packages\\vboxapi-1.0-py3.11.egg is deprecated. pip 23.3 will enforce this behaviour change. A possible replacement is to use pip for package installation..\n",
            "DEPRECATION: Loading egg at c:\\apps\\anaconda3\\lib\\site-packages\\vboxapi-1.0-py3.11.egg is deprecated. pip 23.3 will enforce this behaviour change. A possible replacement is to use pip for package installation..\n",
            "ERROR: Could not find a version that satisfies the requirement scipy.linalg (from versions: none)\n",
            "ERROR: No matching distribution found for scipy.linalg\n",
            "DEPRECATION: Loading egg at c:\\apps\\anaconda3\\lib\\site-packages\\vboxapi-1.0-py3.11.egg is deprecated. pip 23.3 will enforce this behaviour change. A possible replacement is to use pip for package installation..\n",
            "ERROR: Could not find a version that satisfies the requirement matplotlib.pyplot (from versions: none)\n",
            "ERROR: No matching distribution found for matplotlib.pyplot\n"
          ]
        }
      ],
      "source": [
        "!pip install gdown\n",
        "!pip install requests\n",
        "!pip install PIL\n",
        "!pip install natsort\n",
        "!pip install numpy\n",
        "!pip install scipy.linalg\n",
        "!pip install matplotlib.pyplot"
      ]
    },
    {
      "cell_type": "code",
      "execution_count": 100,
      "metadata": {},
      "outputs": [
        {
          "name": "stdout",
          "output_type": "stream",
          "text": [
            "Files extracted to ./celeba\n"
          ]
        }
      ],
      "source": [
        "import zipfile \n",
        "\n",
        "import os \n",
        "\n",
        "  \n",
        "\n",
        "zip_path = 'img_align_celeba.zip'  # Path to the downloaded zip file \n",
        "\n",
        "extract_to = './CelebA'  # Directory where files will be extracted \n",
        "\n",
        "  \n",
        "\n",
        "# Create target directory if it doesn't exist \n",
        "\n",
        "if not os.path.exists(extract_to): \n",
        "\n",
        "    os.makedirs(extract_to) \n",
        "\n",
        "  \n",
        "\n",
        "# Unzipping the file \n",
        "\n",
        "with zipfile.ZipFile(zip_path, 'r') as zip_ref: \n",
        "\n",
        "    zip_ref.extractall(extract_to) \n",
        "\n",
        "  \n",
        "\n",
        "print(f\"Files extracted to {extract_to}\") "
      ]
    },
    {
      "cell_type": "code",
      "execution_count": 101,
      "metadata": {
        "colab": {
          "base_uri": "https://localhost:8080/",
          "height": 1000
        },
        "id": "MiS5N0xn-rUv",
        "outputId": "c9e841a4-b817-45ae-9901-7cb355b67b4f"
      },
      "outputs": [
        {
          "ename": "FileNotFoundError",
          "evalue": "[WinError 3] The system cannot find the path specified: 'img_align_celeba'",
          "output_type": "error",
          "traceback": [
            "\u001b[1;31m---------------------------------------------------------------------------\u001b[0m",
            "\u001b[1;31mFileNotFoundError\u001b[0m                         Traceback (most recent call last)",
            "\u001b[1;32mc:\\Users\\gdi1u21\\Downloads\\WGAN_FID.ipynb Cell 15\u001b[0m line \u001b[0;36m1\n\u001b[0;32m    <a href='vscode-notebook-cell:/c%3A/Users/gdi1u21/Downloads/WGAN_FID.ipynb#X13sZmlsZQ%3D%3D?line=175'>176</a>\u001b[0m transform\u001b[39m=\u001b[39mtransforms\u001b[39m.\u001b[39mCompose([\n\u001b[0;32m    <a href='vscode-notebook-cell:/c%3A/Users/gdi1u21/Downloads/WGAN_FID.ipynb#X13sZmlsZQ%3D%3D?line=176'>177</a>\u001b[0m     transforms\u001b[39m.\u001b[39mResize(image_size),\n\u001b[0;32m    <a href='vscode-notebook-cell:/c%3A/Users/gdi1u21/Downloads/WGAN_FID.ipynb#X13sZmlsZQ%3D%3D?line=177'>178</a>\u001b[0m     transforms\u001b[39m.\u001b[39mCenterCrop(image_size),\n\u001b[1;32m   (...)\u001b[0m\n\u001b[0;32m    <a href='vscode-notebook-cell:/c%3A/Users/gdi1u21/Downloads/WGAN_FID.ipynb#X13sZmlsZQ%3D%3D?line=180'>181</a>\u001b[0m                           std\u001b[39m=\u001b[39m[\u001b[39m0.5\u001b[39m, \u001b[39m0.5\u001b[39m, \u001b[39m0.5\u001b[39m])\n\u001b[0;32m    <a href='vscode-notebook-cell:/c%3A/Users/gdi1u21/Downloads/WGAN_FID.ipynb#X13sZmlsZQ%3D%3D?line=181'>182</a>\u001b[0m ])\n\u001b[0;32m    <a href='vscode-notebook-cell:/c%3A/Users/gdi1u21/Downloads/WGAN_FID.ipynb#X13sZmlsZQ%3D%3D?line=182'>183</a>\u001b[0m \u001b[39m# Load the dataset from file and apply transformations\u001b[39;00m\n\u001b[1;32m--> <a href='vscode-notebook-cell:/c%3A/Users/gdi1u21/Downloads/WGAN_FID.ipynb#X13sZmlsZQ%3D%3D?line=183'>184</a>\u001b[0m celeba_dataset \u001b[39m=\u001b[39m CelebADataset(img_folder, transform)\n\u001b[0;32m    <a href='vscode-notebook-cell:/c%3A/Users/gdi1u21/Downloads/WGAN_FID.ipynb#X13sZmlsZQ%3D%3D?line=185'>186</a>\u001b[0m \u001b[39m# Model, Device, and Hyperparameters Setup\u001b[39;00m\n\u001b[0;32m    <a href='vscode-notebook-cell:/c%3A/Users/gdi1u21/Downloads/WGAN_FID.ipynb#X13sZmlsZQ%3D%3D?line=186'>187</a>\u001b[0m device \u001b[39m=\u001b[39m torch\u001b[39m.\u001b[39mdevice(\u001b[39m'\u001b[39m\u001b[39mcuda\u001b[39m\u001b[39m'\u001b[39m \u001b[39mif\u001b[39;00m torch\u001b[39m.\u001b[39mcuda\u001b[39m.\u001b[39mis_available() \u001b[39melse\u001b[39;00m \u001b[39m'\u001b[39m\u001b[39mcpu\u001b[39m\u001b[39m'\u001b[39m)\n",
            "\u001b[1;32mc:\\Users\\gdi1u21\\Downloads\\WGAN_FID.ipynb Cell 15\u001b[0m line \u001b[0;36m1\n\u001b[0;32m    <a href='vscode-notebook-cell:/c%3A/Users/gdi1u21/Downloads/WGAN_FID.ipynb#X13sZmlsZQ%3D%3D?line=144'>145</a>\u001b[0m \u001b[39mdef\u001b[39;00m \u001b[39m__init__\u001b[39m(\u001b[39mself\u001b[39m, root_dir, transform\u001b[39m=\u001b[39m\u001b[39mNone\u001b[39;00m):\n\u001b[0;32m    <a href='vscode-notebook-cell:/c%3A/Users/gdi1u21/Downloads/WGAN_FID.ipynb#X13sZmlsZQ%3D%3D?line=145'>146</a>\u001b[0m   \u001b[39m# Read names of images in the root directory\u001b[39;00m\n\u001b[1;32m--> <a href='vscode-notebook-cell:/c%3A/Users/gdi1u21/Downloads/WGAN_FID.ipynb#X13sZmlsZQ%3D%3D?line=146'>147</a>\u001b[0m   image_names \u001b[39m=\u001b[39m os\u001b[39m.\u001b[39mlistdir(root_dir)\n\u001b[0;32m    <a href='vscode-notebook-cell:/c%3A/Users/gdi1u21/Downloads/WGAN_FID.ipynb#X13sZmlsZQ%3D%3D?line=148'>149</a>\u001b[0m   \u001b[39mself\u001b[39m\u001b[39m.\u001b[39mroot_dir \u001b[39m=\u001b[39m root_dir\n\u001b[0;32m    <a href='vscode-notebook-cell:/c%3A/Users/gdi1u21/Downloads/WGAN_FID.ipynb#X13sZmlsZQ%3D%3D?line=149'>150</a>\u001b[0m   \u001b[39mself\u001b[39m\u001b[39m.\u001b[39mtransform \u001b[39m=\u001b[39m transform\n",
            "\u001b[1;31mFileNotFoundError\u001b[0m: [WinError 3] The system cannot find the path specified: 'img_align_celeba'"
          ]
        }
      ],
      "source": [
        "import torch\n",
        "import torch.nn as nn\n",
        "import torch.optim as optim\n",
        "import torchvision\n",
        "import torchvision.datasets as datasets\n",
        "import torchvision.transforms as transforms\n",
        "import os\n",
        "import gdown\n",
        "import requests\n",
        "from PIL import Image\n",
        "from natsort import natsorted\n",
        "from torch.utils.data import DataLoader\n",
        "from torch.utils.data import Dataset\n",
        "from torchvision.models import inception_v3\n",
        "import numpy as np\n",
        "from scipy.linalg import sqrtm\n",
        "import torch.nn.functional as F\n",
        "import matplotlib.pyplot as plt\n",
        "#from torch.utils.tensorboard import SummaryWriter\n",
        "#from model import Discriminator, Generator, initialize_weights\n",
        "\n",
        "class Discriminator(nn.Module):\n",
        "    def __init__(self, channels_img, features_d):\n",
        "        super(Discriminator, self).__init__()\n",
        "        self.disc = nn.Sequential(\n",
        "            nn.Conv2d(\n",
        "                channels_img, features_d, kernel_size=4, stride=2, padding=1\n",
        "            ),\n",
        "            nn.LeakyReLU(0.2),\n",
        "            self._block(features_d, features_d * 2, 4, 2, 1),\n",
        "            self._block(features_d * 2, features_d * 4, 4, 2, 1),\n",
        "            self._block(features_d * 4, features_d * 8, 4, 2, 1),\n",
        "            nn.Conv2d(features_d * 8, 1, kernel_size=4, stride=2, padding=0),\n",
        "        )\n",
        "\n",
        "        # Move the discriminator to the same device as the model's parameters\n",
        "        self.disc = self.disc.to(device)\n",
        "\n",
        "    def _block(self, in_channels, out_channels, kernel_size, stride, padding):\n",
        "        return nn.Sequential(\n",
        "            nn.Conv2d(in_channels, out_channels, kernel_size, stride, padding, bias = False),\n",
        "            nn.BatchNorm2d(out_channels),\n",
        "            nn.LeakyReLU(0.2)\n",
        "        )\n",
        "    def forward(self, x):\n",
        "        return self.disc(x)\n",
        "\n",
        "class Generator(nn.Module):\n",
        "    def __init__(self, z_dim, channels_img, features_g):\n",
        "        super(Generator,self).__init__()\n",
        "        self.gen = nn.Sequential(\n",
        "            self._block(z_dim, features_g * 16, 4, 1, 0),\n",
        "            self._block(features_g * 16, features_g * 8, 4, 2, 1),\n",
        "            self._block(features_g * 8, features_g * 4, 4, 2, 1),\n",
        "            self._block(features_g * 4, features_g * 2, 4, 2, 1),\n",
        "            nn.ConvTranspose2d(\n",
        "                features_g * 2, channels_img, kernel_size = 4, stride = 2,padding = 1\n",
        "            ),\n",
        "            nn.Tanh()\n",
        "        )\n",
        "\n",
        "        # Move the generator to the same device as the model's parameters\n",
        "        self.gen = self.gen.to(device)\n",
        "\n",
        "    def _block(self, in_channels, out_channels, kernel_size, stride, padding):\n",
        "        return nn.Sequential(\n",
        "            nn.ConvTranspose2d(\n",
        "                in_channels, out_channels, kernel_size, stride, padding, bias = False\n",
        "            ),\n",
        "            nn.BatchNorm2d(out_channels),\n",
        "            nn.ReLU()\n",
        "        )\n",
        "    def forward(self, x):\n",
        "        return self.gen(x)\n",
        "\n",
        "def initialize_weights(model):\n",
        "    for m in model.modules():\n",
        "        if isinstance(m, (nn.Conv2d, nn.ConvTranspose2d, nn.BatchNorm2d)):\n",
        "            nn.init.normal_(m.weight.data, 0.0, 0.02)\n",
        "def test():\n",
        "    N, in_channels, H, W = 8, 3, 64, 64\n",
        "    z_dim = 100\n",
        "    x = torch.randn((N, in_channels, H, W))\n",
        "    disc = Discriminator(in_channels, 8)\n",
        "    initialize_weights(disc)\n",
        "    assert disc(x).shape == (N, 1, 1, 1 )\n",
        "    initialize_weights(gen)\n",
        "    gen = Generator(z_dim, in_channels, 8)\n",
        "    z = torch.randn((N, z_dim, 1, 1))\n",
        "    assert gen(z).shape == (N, in_channels, H, W)\n",
        "\n",
        "def get_inception_features(model, images, device):\n",
        "    model.eval()\n",
        "    features = []\n",
        "    with torch.no_grad():\n",
        "        for batch in DataLoader(images, batch_size=32):\n",
        "            batch = batch.to(device)\n",
        "            # Get output from the global average pooling layer or pre-softmax layer\n",
        "            feat = model(batch)\n",
        "            if isinstance(feat, tuple):\n",
        "                feat = feat[-1]  # Extract features from the tuple\n",
        "            feat = feat.squeeze()  # Remove single-dimensional entries\n",
        "            if feat.dim() == 1:\n",
        "                feat = feat.unsqueeze(0)  # Ensure 2D shape for single image batch\n",
        "            features.append(feat.cpu().numpy())\n",
        "    features = np.concatenate(features, axis=0)\n",
        "    return features\n",
        "\n",
        "def get_features(model, dataloader, device):\n",
        "    model.eval()\n",
        "    features = []\n",
        "    with torch.no_grad():\n",
        "        for images in dataloader:\n",
        "            if isinstance(images, tuple) or isinstance(images, list):\n",
        "                images = images[0]\n",
        "            images = images.to(device)\n",
        "            feat = model(images)\n",
        "            features.append(feat.cpu().numpy())\n",
        "    features = np.concatenate(features, axis=0)\n",
        "    return features\n",
        "\n",
        "def calculate_fid(real_features, fake_features):\n",
        "    # Ensure that the feature arrays are 2D\n",
        "    if real_features.ndim != 2 or fake_features.ndim != 2:\n",
        "        raise ValueError(\"Feature arrays must be 2D\")\n",
        "\n",
        "    # Calculate the mean and covariance of the features\n",
        "    mu1, sigma1 = real_features.mean(axis=0), np.cov(real_features, rowvar=False)\n",
        "    mu2, sigma2 = fake_features.mean(axis=0), np.cov(fake_features, rowvar=False)\n",
        "\n",
        "    # Calculate the sum squared difference between means\n",
        "    ssdiff = np.sum((mu1 - mu2) ** 2.0)\n",
        "\n",
        "    # Compute the square root of the product of covariances\n",
        "    covmean, _ = sqrtm(sigma1.dot(sigma2), disp=False)\n",
        "    if np.iscomplexobj(covmean):\n",
        "        covmean = covmean.real\n",
        "\n",
        "    # Compute the FID score\n",
        "    fid = ssdiff + np.trace(sigma1 + sigma2 - 2.0 * covmean)\n",
        "    return fid\n",
        "\n",
        "## Create a custom Dataset class\n",
        "class CelebADataset(Dataset):\n",
        "  def __init__(self, root_dir, transform=None):\n",
        "    # Read names of images in the root directory\n",
        "    image_names = os.listdir(root_dir)\n",
        "\n",
        "    self.root_dir = root_dir\n",
        "    self.transform = transform\n",
        "    self.image_names = natsorted(image_names)\n",
        "\n",
        "  def __len__(self):\n",
        "    return len(self.image_names)\n",
        "\n",
        "  def __getitem__(self, idx):\n",
        "    # Get the path to the image\n",
        "    img_path = os.path.join(self.root_dir, self.image_names[idx])\n",
        "    # Load image and convert it to RGB\n",
        "    img = Image.open(img_path).convert('RGB')\n",
        "    # Apply transformations to the image\n",
        "    if self.transform:\n",
        "      img = self.transform(img)\n",
        "\n",
        "    return img\n",
        "\n",
        "## Load the dataset\n",
        "img_folder = './celeba/img_align_celeba'  # Update path based on where files got extracted \n",
        "# Path to folder with the dataset\n",
        "dataset_folder = 'img_align_celeba'\n",
        "# Path to directory with all the images\n",
        "img_folder = f'{dataset_folder}'\n",
        "# Spatial size of training images, images are resized to this size.\n",
        "image_size = 64\n",
        "# Transformations to be applied to each individual image sample\n",
        "transform=transforms.Compose([\n",
        "    transforms.Resize(image_size),\n",
        "    transforms.CenterCrop(image_size),\n",
        "    transforms.ToTensor(),\n",
        "    transforms.Normalize(mean=[0.5, 0.5, 0.5],\n",
        "                          std=[0.5, 0.5, 0.5])\n",
        "])\n",
        "# Load the dataset from file and apply transformations\n",
        "celeba_dataset = CelebADataset(img_folder, transform)\n",
        "\n",
        "# Model, Device, and Hyperparameters Setup\n",
        "device = torch.device('cuda' if torch.cuda.is_available() else 'cpu')\n",
        "LEARNING_RATE = 5e-5\n",
        "BATCH_SIZE = 64\n",
        "Z_DIM = 100\n",
        "NUM_EPOCHS = 10\n",
        "FEATURES_DISC = 64\n",
        "FEATURES_GEN = 64\n",
        "CHANNELS_IMG = 3\n",
        "CRITIC_ITERATIONS = 5\n",
        "WEIGHT_CLIP = 0.01\n",
        "\n",
        "## Create a dataloader\n",
        "# Batch size during training\n",
        "batch_size = 128\n",
        "# Number of workers for the dataloader\n",
        "num_workers = 0 if device.type == 'cuda' else 2\n",
        "# Whether to put fetched data tensors to pinned memory\n",
        "pin_memory = True if device.type == 'cuda' else False\n",
        "\n",
        "celeba_dataloader = torch.utils.data.DataLoader(celeba_dataset,\n",
        "                                                batch_size=batch_size,\n",
        "                                                num_workers=num_workers,\n",
        "                                                pin_memory=pin_memory,\n",
        "                                                shuffle=True)\n",
        "\n",
        "#dataloader = DataLoader(dataset, batch_size = BATCH_SIZE, shuffle = True)\n",
        "gen = Generator(Z_DIM, CHANNELS_IMG, FEATURES_GEN)\n",
        "critic = Discriminator(CHANNELS_IMG, FEATURES_DISC)\n",
        "initialize_weights(gen)\n",
        "initialize_weights(critic)\n",
        "\n",
        "opt_gen = optim.RMSprop(gen.parameters(), lr = LEARNING_RATE)\n",
        "opt_critic = optim.RMSprop(critic.parameters(), lr = LEARNING_RATE)\n",
        "\n",
        "fixed_noise = torch.randn(32, Z_DIM, 1, 1).to(device)\n",
        "#writer_real = SummaryWriter(f\"logs/real\")\n",
        "#writer_real = SummaryWriter(f\"logs/fake\")\n",
        "gen.train()\n",
        "critic.train()\n",
        "\n",
        "step = 0\n",
        "\n",
        "# Load the dataset from file and apply transformations\n",
        "celeba_dataset = CelebADataset(img_folder, transform)\n",
        "\n",
        "# Data Preparation\n",
        "transforms = transforms.Compose([\n",
        "    transforms.Resize(64),\n",
        "    transforms.CenterCrop(64),\n",
        "    transforms.ToTensor(),\n",
        "    transforms.Normalize([0.5 for _ in range(3)], [0.5 for _ in range(3)])\n",
        "])\n",
        "celeba_dataset = CelebADataset(img_folder, transform) \n",
        "dataset = CelebADataset('img_align_celeba', transform=transforms)\n",
        "loader = DataLoader(dataset, batch_size=BATCH_SIZE, shuffle=True)\n",
        "\n",
        "# Initialize Inception Model for FID\n",
        "inception_model = inception_v3(pretrained=True, transform_input=False).to(device)\n",
        "inception_model.eval()\n",
        "\n",
        "# Training Loop\n",
        "fixed_noise = torch.randn(32, Z_DIM, 1, 1, device=device)\n",
        "fid_scores = []\n",
        "n_epochs_for_fid = 1\n",
        "\n",
        "for epoch in range(NUM_EPOCHS):\n",
        "    for batch_idx, real in enumerate(celeba_dataloader):\n",
        "        real = real.to(device)\n",
        "\n",
        "        # Training the Critic\n",
        "        for _ in range(CRITIC_ITERATIONS):\n",
        "            noise = torch.randn(BATCH_SIZE, Z_DIM, 1, 1).to(device)\n",
        "            fake = gen(noise)\n",
        "\n",
        "            critic_real = critic(real).reshape(-1)\n",
        "            critic_fake = critic(fake).reshape(-1)\n",
        "            loss_critic = -(torch.mean(critic_real) - torch.mean(critic_fake))\n",
        "\n",
        "            critic.zero_grad()\n",
        "            loss_critic.backward(retain_graph=True)\n",
        "            opt_critic.step()\n",
        "\n",
        "            # Clipping the weights of the discriminator\n",
        "            for p in critic.parameters():\n",
        "                p.data.clamp_(-WEIGHT_CLIP, WEIGHT_CLIP)\n",
        "\n",
        "        # Training the Generator\n",
        "        output = critic(fake).reshape(-1)\n",
        "        loss_gen = -torch.mean(output)\n",
        "        gen.zero_grad()\n",
        "        loss_gen.backward()\n",
        "        opt_gen.step()\n",
        "\n",
        "        # Logging the losses and visualizing the results\n",
        "        if batch_idx % 100 == 0:\n",
        "            print(f\"Epoch [{epoch}/{NUM_EPOCHS}] Batch {batch_idx}/{len(celeba_dataloader)} \"\n",
        "                  f\"Loss D: {loss_critic:.4f}, loss G: {loss_gen:.4f}\")\n",
        "\n",
        "            with torch.no_grad():\n",
        "                fake = gen(fixed_noise)\n",
        "                img_grid_real = torchvision.utils.make_grid(real[:32], normalize=True)\n",
        "                img_grid_fake = torchvision.utils.make_grid(fake[:32], normalize=True)\n",
        "                # Optional: Save or display images\n",
        "\n",
        "    if epoch % n_epochs_for_fid == 0:\n",
        "        with torch.no_grad():\n",
        "            # Generate fake images and ensure they have the correct dimensions\n",
        "            fake_images = gen(fixed_noise).to(device)\n",
        "            if len(fake_images.shape) == 4:  # Shape should be (N, C, H, W)\n",
        "                fake_images_resized = F.interpolate(fake_images, size=(299, 299), mode='bilinear', align_corners=False)\n",
        "                fake_features = get_inception_features(inception_model, fake_images_resized, device)\n",
        "            else:\n",
        "                continue  # Skip if dimensions are incorrect\n",
        "            print(f\"Fake features shape: {fake_features.shape}\")\n",
        "            print(f\"Shape of fake images after resizing: {fake_images_resized.shape}\")\n",
        "\n",
        "            # Get real images and ensure they have the correct dimensions\n",
        "            real_batch = next(iter(celeba_dataloader))\n",
        "            real_images = real_batch[0].to(device) if isinstance(real_batch, (tuple, list)) else real_batch.to(device)\n",
        "            if len(real_images.shape) == 4:  # Shape should be (N, C, H, W)\n",
        "                real_images_resized = F.interpolate(real_images, size=(299, 299), mode='bilinear', align_corners=False)\n",
        "                real_features = get_inception_features(inception_model, real_images_resized, device)\n",
        "            else:\n",
        "                continue  # Skip if dimensions are incorrect\n",
        "            print(f\"Real features shape: {real_features.shape}\")\n",
        "            print(f\"Shape of real images after resizing: {real_images_resized.shape}\")\n",
        "\n",
        "            # Calculate FID\n",
        "            try:\n",
        "                fid_value = calculate_fid(real_features, fake_features)\n",
        "                fid_scores.append(fid_value)\n",
        "                print(f\"FID at epoch {epoch}: {fid_value}\")\n",
        "            except Exception as e:\n",
        "                print(f\"Error calculating FID: {e}\")\n",
        "                continue  # Skip to next epoch or batch\n",
        "\n",
        "\n",
        "\n",
        "# Plotting FID Scores after training\n",
        "plt.figure(figsize=(10, 5))\n",
        "if len(fid_scores) > 0:\n",
        "    plt.plot(range(0, NUM_EPOCHS, n_epochs_for_fid), fid_scores, marker='o')\n",
        "    plt.title(\"FID Score over Epochs\")\n",
        "    plt.xlabel(\"Epochs\")\n",
        "    plt.ylabel(\"FID Score\")\n",
        "    plt.grid(True)\n",
        "    plt.show()\n",
        "else:\n",
        "    print(\"No FID scores to plot.\")"
      ]
    }
  ],
  "metadata": {
    "accelerator": "GPU",
    "colab": {
      "gpuType": "T4",
      "machine_shape": "hm",
      "provenance": []
    },
    "kernelspec": {
      "display_name": "Python 3 (ipykernel)",
      "language": "python",
      "name": "python3"
    },
    "language_info": {
      "codemirror_mode": {
        "name": "ipython",
        "version": 3
      },
      "file_extension": ".py",
      "mimetype": "text/x-python",
      "name": "python",
      "nbconvert_exporter": "python",
      "pygments_lexer": "ipython3",
      "version": "3.11.4"
    }
  },
  "nbformat": 4,
  "nbformat_minor": 0
}
